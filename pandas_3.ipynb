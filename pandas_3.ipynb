{
 "cells": [
  {
   "cell_type": "code",
   "execution_count": 1,
   "metadata": {},
   "outputs": [],
   "source": [
    "%matplotlib inline\n",
    "import numpy as np\n",
    "import pandas as pd\n",
    "import matplotlib.pyplot as plt\n",
    "import scipy.stats as stats"
   ]
  },
  {
   "cell_type": "code",
   "execution_count": 2,
   "metadata": {},
   "outputs": [],
   "source": [
    "df = pd.read_csv('score.csv')"
   ]
  },
  {
   "cell_type": "code",
   "execution_count": 3,
   "metadata": {},
   "outputs": [
    {
     "data": {
      "text/html": [
       "<div>\n",
       "<style scoped>\n",
       "    .dataframe tbody tr th:only-of-type {\n",
       "        vertical-align: middle;\n",
       "    }\n",
       "\n",
       "    .dataframe tbody tr th {\n",
       "        vertical-align: top;\n",
       "    }\n",
       "\n",
       "    .dataframe thead th {\n",
       "        text-align: right;\n",
       "    }\n",
       "</style>\n",
       "<table border=\"1\" class=\"dataframe\">\n",
       "  <thead>\n",
       "    <tr style=\"text-align: right;\">\n",
       "      <th></th>\n",
       "      <th>반</th>\n",
       "      <th>이름</th>\n",
       "      <th>국어</th>\n",
       "      <th>영어</th>\n",
       "      <th>수학</th>\n",
       "      <th>과학</th>\n",
       "    </tr>\n",
       "  </thead>\n",
       "  <tbody>\n",
       "    <tr>\n",
       "      <th>0</th>\n",
       "      <td>1</td>\n",
       "      <td>성춘향</td>\n",
       "      <td>67</td>\n",
       "      <td>87</td>\n",
       "      <td>90</td>\n",
       "      <td>98</td>\n",
       "    </tr>\n",
       "    <tr>\n",
       "      <th>1</th>\n",
       "      <td>1</td>\n",
       "      <td>이몽룡</td>\n",
       "      <td>45</td>\n",
       "      <td>45</td>\n",
       "      <td>56</td>\n",
       "      <td>98</td>\n",
       "    </tr>\n",
       "    <tr>\n",
       "      <th>2</th>\n",
       "      <td>1</td>\n",
       "      <td>향단이</td>\n",
       "      <td>95</td>\n",
       "      <td>59</td>\n",
       "      <td>96</td>\n",
       "      <td>88</td>\n",
       "    </tr>\n",
       "    <tr>\n",
       "      <th>3</th>\n",
       "      <td>1</td>\n",
       "      <td>방자</td>\n",
       "      <td>65</td>\n",
       "      <td>94</td>\n",
       "      <td>89</td>\n",
       "      <td>98</td>\n",
       "    </tr>\n",
       "    <tr>\n",
       "      <th>4</th>\n",
       "      <td>1</td>\n",
       "      <td>월매</td>\n",
       "      <td>45</td>\n",
       "      <td>65</td>\n",
       "      <td>78</td>\n",
       "      <td>98</td>\n",
       "    </tr>\n",
       "    <tr>\n",
       "      <th>5</th>\n",
       "      <td>1</td>\n",
       "      <td>변학도</td>\n",
       "      <td>78</td>\n",
       "      <td>76</td>\n",
       "      <td>98</td>\n",
       "      <td>89</td>\n",
       "    </tr>\n",
       "    <tr>\n",
       "      <th>6</th>\n",
       "      <td>2</td>\n",
       "      <td>홍길동</td>\n",
       "      <td>87</td>\n",
       "      <td>67</td>\n",
       "      <td>65</td>\n",
       "      <td>56</td>\n",
       "    </tr>\n",
       "    <tr>\n",
       "      <th>7</th>\n",
       "      <td>2</td>\n",
       "      <td>임꺽정</td>\n",
       "      <td>89</td>\n",
       "      <td>98</td>\n",
       "      <td>78</td>\n",
       "      <td>78</td>\n",
       "    </tr>\n",
       "    <tr>\n",
       "      <th>8</th>\n",
       "      <td>2</td>\n",
       "      <td>전우치</td>\n",
       "      <td>100</td>\n",
       "      <td>78</td>\n",
       "      <td>56</td>\n",
       "      <td>65</td>\n",
       "    </tr>\n",
       "    <tr>\n",
       "      <th>9</th>\n",
       "      <td>2</td>\n",
       "      <td>일지매</td>\n",
       "      <td>99</td>\n",
       "      <td>89</td>\n",
       "      <td>87</td>\n",
       "      <td>87</td>\n",
       "    </tr>\n",
       "    <tr>\n",
       "      <th>10</th>\n",
       "      <td>2</td>\n",
       "      <td>심청</td>\n",
       "      <td>98</td>\n",
       "      <td>45</td>\n",
       "      <td>56</td>\n",
       "      <td>54</td>\n",
       "    </tr>\n",
       "    <tr>\n",
       "      <th>11</th>\n",
       "      <td>2</td>\n",
       "      <td>콩쥐</td>\n",
       "      <td>65</td>\n",
       "      <td>89</td>\n",
       "      <td>87</td>\n",
       "      <td>78</td>\n",
       "    </tr>\n",
       "  </tbody>\n",
       "</table>\n",
       "</div>"
      ],
      "text/plain": [
       "    반   이름   국어  영어  수학  과학\n",
       "0   1  성춘향   67  87  90  98\n",
       "1   1  이몽룡   45  45  56  98\n",
       "2   1  향단이   95  59  96  88\n",
       "3   1   방자   65  94  89  98\n",
       "4   1   월매   45  65  78  98\n",
       "5   1  변학도   78  76  98  89\n",
       "6   2  홍길동   87  67  65  56\n",
       "7   2  임꺽정   89  98  78  78\n",
       "8   2  전우치  100  78  56  65\n",
       "9   2  일지매   99  89  87  87\n",
       "10  2   심청   98  45  56  54\n",
       "11  2   콩쥐   65  89  87  78"
      ]
     },
     "execution_count": 3,
     "metadata": {},
     "output_type": "execute_result"
    }
   ],
   "source": [
    "df"
   ]
  },
  {
   "cell_type": "code",
   "execution_count": 4,
   "metadata": {},
   "outputs": [],
   "source": [
    "subjects = ['국어', '영어', '수학', '과학']"
   ]
  },
  {
   "cell_type": "code",
   "execution_count": 5,
   "metadata": {},
   "outputs": [],
   "source": [
    "df['총점'] = df[subjects].sum(axis=1)"
   ]
  },
  {
   "cell_type": "code",
   "execution_count": 6,
   "metadata": {},
   "outputs": [
    {
     "data": {
      "text/html": [
       "<div>\n",
       "<style scoped>\n",
       "    .dataframe tbody tr th:only-of-type {\n",
       "        vertical-align: middle;\n",
       "    }\n",
       "\n",
       "    .dataframe tbody tr th {\n",
       "        vertical-align: top;\n",
       "    }\n",
       "\n",
       "    .dataframe thead th {\n",
       "        text-align: right;\n",
       "    }\n",
       "</style>\n",
       "<table border=\"1\" class=\"dataframe\">\n",
       "  <thead>\n",
       "    <tr style=\"text-align: right;\">\n",
       "      <th></th>\n",
       "      <th>반</th>\n",
       "      <th>이름</th>\n",
       "      <th>국어</th>\n",
       "      <th>영어</th>\n",
       "      <th>수학</th>\n",
       "      <th>과학</th>\n",
       "      <th>총점</th>\n",
       "    </tr>\n",
       "  </thead>\n",
       "  <tbody>\n",
       "    <tr>\n",
       "      <th>0</th>\n",
       "      <td>1</td>\n",
       "      <td>성춘향</td>\n",
       "      <td>67</td>\n",
       "      <td>87</td>\n",
       "      <td>90</td>\n",
       "      <td>98</td>\n",
       "      <td>342</td>\n",
       "    </tr>\n",
       "    <tr>\n",
       "      <th>1</th>\n",
       "      <td>1</td>\n",
       "      <td>이몽룡</td>\n",
       "      <td>45</td>\n",
       "      <td>45</td>\n",
       "      <td>56</td>\n",
       "      <td>98</td>\n",
       "      <td>244</td>\n",
       "    </tr>\n",
       "    <tr>\n",
       "      <th>2</th>\n",
       "      <td>1</td>\n",
       "      <td>향단이</td>\n",
       "      <td>95</td>\n",
       "      <td>59</td>\n",
       "      <td>96</td>\n",
       "      <td>88</td>\n",
       "      <td>338</td>\n",
       "    </tr>\n",
       "    <tr>\n",
       "      <th>3</th>\n",
       "      <td>1</td>\n",
       "      <td>방자</td>\n",
       "      <td>65</td>\n",
       "      <td>94</td>\n",
       "      <td>89</td>\n",
       "      <td>98</td>\n",
       "      <td>346</td>\n",
       "    </tr>\n",
       "    <tr>\n",
       "      <th>4</th>\n",
       "      <td>1</td>\n",
       "      <td>월매</td>\n",
       "      <td>45</td>\n",
       "      <td>65</td>\n",
       "      <td>78</td>\n",
       "      <td>98</td>\n",
       "      <td>286</td>\n",
       "    </tr>\n",
       "    <tr>\n",
       "      <th>5</th>\n",
       "      <td>1</td>\n",
       "      <td>변학도</td>\n",
       "      <td>78</td>\n",
       "      <td>76</td>\n",
       "      <td>98</td>\n",
       "      <td>89</td>\n",
       "      <td>341</td>\n",
       "    </tr>\n",
       "    <tr>\n",
       "      <th>6</th>\n",
       "      <td>2</td>\n",
       "      <td>홍길동</td>\n",
       "      <td>87</td>\n",
       "      <td>67</td>\n",
       "      <td>65</td>\n",
       "      <td>56</td>\n",
       "      <td>275</td>\n",
       "    </tr>\n",
       "    <tr>\n",
       "      <th>7</th>\n",
       "      <td>2</td>\n",
       "      <td>임꺽정</td>\n",
       "      <td>89</td>\n",
       "      <td>98</td>\n",
       "      <td>78</td>\n",
       "      <td>78</td>\n",
       "      <td>343</td>\n",
       "    </tr>\n",
       "    <tr>\n",
       "      <th>8</th>\n",
       "      <td>2</td>\n",
       "      <td>전우치</td>\n",
       "      <td>100</td>\n",
       "      <td>78</td>\n",
       "      <td>56</td>\n",
       "      <td>65</td>\n",
       "      <td>299</td>\n",
       "    </tr>\n",
       "    <tr>\n",
       "      <th>9</th>\n",
       "      <td>2</td>\n",
       "      <td>일지매</td>\n",
       "      <td>99</td>\n",
       "      <td>89</td>\n",
       "      <td>87</td>\n",
       "      <td>87</td>\n",
       "      <td>362</td>\n",
       "    </tr>\n",
       "    <tr>\n",
       "      <th>10</th>\n",
       "      <td>2</td>\n",
       "      <td>심청</td>\n",
       "      <td>98</td>\n",
       "      <td>45</td>\n",
       "      <td>56</td>\n",
       "      <td>54</td>\n",
       "      <td>253</td>\n",
       "    </tr>\n",
       "    <tr>\n",
       "      <th>11</th>\n",
       "      <td>2</td>\n",
       "      <td>콩쥐</td>\n",
       "      <td>65</td>\n",
       "      <td>89</td>\n",
       "      <td>87</td>\n",
       "      <td>78</td>\n",
       "      <td>319</td>\n",
       "    </tr>\n",
       "  </tbody>\n",
       "</table>\n",
       "</div>"
      ],
      "text/plain": [
       "    반   이름   국어  영어  수학  과학   총점\n",
       "0   1  성춘향   67  87  90  98  342\n",
       "1   1  이몽룡   45  45  56  98  244\n",
       "2   1  향단이   95  59  96  88  338\n",
       "3   1   방자   65  94  89  98  346\n",
       "4   1   월매   45  65  78  98  286\n",
       "5   1  변학도   78  76  98  89  341\n",
       "6   2  홍길동   87  67  65  56  275\n",
       "7   2  임꺽정   89  98  78  78  343\n",
       "8   2  전우치  100  78  56  65  299\n",
       "9   2  일지매   99  89  87  87  362\n",
       "10  2   심청   98  45  56  54  253\n",
       "11  2   콩쥐   65  89  87  78  319"
      ]
     },
     "execution_count": 6,
     "metadata": {},
     "output_type": "execute_result"
    }
   ],
   "source": [
    "df"
   ]
  },
  {
   "cell_type": "code",
   "execution_count": 7,
   "metadata": {},
   "outputs": [],
   "source": [
    "df['평균'] = df[subjects].mean(axis=1)"
   ]
  },
  {
   "cell_type": "code",
   "execution_count": 8,
   "metadata": {
    "scrolled": true
   },
   "outputs": [
    {
     "data": {
      "text/html": [
       "<div>\n",
       "<style scoped>\n",
       "    .dataframe tbody tr th:only-of-type {\n",
       "        vertical-align: middle;\n",
       "    }\n",
       "\n",
       "    .dataframe tbody tr th {\n",
       "        vertical-align: top;\n",
       "    }\n",
       "\n",
       "    .dataframe thead th {\n",
       "        text-align: right;\n",
       "    }\n",
       "</style>\n",
       "<table border=\"1\" class=\"dataframe\">\n",
       "  <thead>\n",
       "    <tr style=\"text-align: right;\">\n",
       "      <th></th>\n",
       "      <th>반</th>\n",
       "      <th>이름</th>\n",
       "      <th>국어</th>\n",
       "      <th>영어</th>\n",
       "      <th>수학</th>\n",
       "      <th>과학</th>\n",
       "      <th>총점</th>\n",
       "      <th>평균</th>\n",
       "    </tr>\n",
       "  </thead>\n",
       "  <tbody>\n",
       "    <tr>\n",
       "      <th>0</th>\n",
       "      <td>1</td>\n",
       "      <td>성춘향</td>\n",
       "      <td>67</td>\n",
       "      <td>87</td>\n",
       "      <td>90</td>\n",
       "      <td>98</td>\n",
       "      <td>342</td>\n",
       "      <td>85.50</td>\n",
       "    </tr>\n",
       "    <tr>\n",
       "      <th>1</th>\n",
       "      <td>1</td>\n",
       "      <td>이몽룡</td>\n",
       "      <td>45</td>\n",
       "      <td>45</td>\n",
       "      <td>56</td>\n",
       "      <td>98</td>\n",
       "      <td>244</td>\n",
       "      <td>61.00</td>\n",
       "    </tr>\n",
       "    <tr>\n",
       "      <th>2</th>\n",
       "      <td>1</td>\n",
       "      <td>향단이</td>\n",
       "      <td>95</td>\n",
       "      <td>59</td>\n",
       "      <td>96</td>\n",
       "      <td>88</td>\n",
       "      <td>338</td>\n",
       "      <td>84.50</td>\n",
       "    </tr>\n",
       "    <tr>\n",
       "      <th>3</th>\n",
       "      <td>1</td>\n",
       "      <td>방자</td>\n",
       "      <td>65</td>\n",
       "      <td>94</td>\n",
       "      <td>89</td>\n",
       "      <td>98</td>\n",
       "      <td>346</td>\n",
       "      <td>86.50</td>\n",
       "    </tr>\n",
       "    <tr>\n",
       "      <th>4</th>\n",
       "      <td>1</td>\n",
       "      <td>월매</td>\n",
       "      <td>45</td>\n",
       "      <td>65</td>\n",
       "      <td>78</td>\n",
       "      <td>98</td>\n",
       "      <td>286</td>\n",
       "      <td>71.50</td>\n",
       "    </tr>\n",
       "    <tr>\n",
       "      <th>5</th>\n",
       "      <td>1</td>\n",
       "      <td>변학도</td>\n",
       "      <td>78</td>\n",
       "      <td>76</td>\n",
       "      <td>98</td>\n",
       "      <td>89</td>\n",
       "      <td>341</td>\n",
       "      <td>85.25</td>\n",
       "    </tr>\n",
       "    <tr>\n",
       "      <th>6</th>\n",
       "      <td>2</td>\n",
       "      <td>홍길동</td>\n",
       "      <td>87</td>\n",
       "      <td>67</td>\n",
       "      <td>65</td>\n",
       "      <td>56</td>\n",
       "      <td>275</td>\n",
       "      <td>68.75</td>\n",
       "    </tr>\n",
       "    <tr>\n",
       "      <th>7</th>\n",
       "      <td>2</td>\n",
       "      <td>임꺽정</td>\n",
       "      <td>89</td>\n",
       "      <td>98</td>\n",
       "      <td>78</td>\n",
       "      <td>78</td>\n",
       "      <td>343</td>\n",
       "      <td>85.75</td>\n",
       "    </tr>\n",
       "    <tr>\n",
       "      <th>8</th>\n",
       "      <td>2</td>\n",
       "      <td>전우치</td>\n",
       "      <td>100</td>\n",
       "      <td>78</td>\n",
       "      <td>56</td>\n",
       "      <td>65</td>\n",
       "      <td>299</td>\n",
       "      <td>74.75</td>\n",
       "    </tr>\n",
       "    <tr>\n",
       "      <th>9</th>\n",
       "      <td>2</td>\n",
       "      <td>일지매</td>\n",
       "      <td>99</td>\n",
       "      <td>89</td>\n",
       "      <td>87</td>\n",
       "      <td>87</td>\n",
       "      <td>362</td>\n",
       "      <td>90.50</td>\n",
       "    </tr>\n",
       "    <tr>\n",
       "      <th>10</th>\n",
       "      <td>2</td>\n",
       "      <td>심청</td>\n",
       "      <td>98</td>\n",
       "      <td>45</td>\n",
       "      <td>56</td>\n",
       "      <td>54</td>\n",
       "      <td>253</td>\n",
       "      <td>63.25</td>\n",
       "    </tr>\n",
       "    <tr>\n",
       "      <th>11</th>\n",
       "      <td>2</td>\n",
       "      <td>콩쥐</td>\n",
       "      <td>65</td>\n",
       "      <td>89</td>\n",
       "      <td>87</td>\n",
       "      <td>78</td>\n",
       "      <td>319</td>\n",
       "      <td>79.75</td>\n",
       "    </tr>\n",
       "  </tbody>\n",
       "</table>\n",
       "</div>"
      ],
      "text/plain": [
       "    반   이름   국어  영어  수학  과학   총점     평균\n",
       "0   1  성춘향   67  87  90  98  342  85.50\n",
       "1   1  이몽룡   45  45  56  98  244  61.00\n",
       "2   1  향단이   95  59  96  88  338  84.50\n",
       "3   1   방자   65  94  89  98  346  86.50\n",
       "4   1   월매   45  65  78  98  286  71.50\n",
       "5   1  변학도   78  76  98  89  341  85.25\n",
       "6   2  홍길동   87  67  65  56  275  68.75\n",
       "7   2  임꺽정   89  98  78  78  343  85.75\n",
       "8   2  전우치  100  78  56  65  299  74.75\n",
       "9   2  일지매   99  89  87  87  362  90.50\n",
       "10  2   심청   98  45  56  54  253  63.25\n",
       "11  2   콩쥐   65  89  87  78  319  79.75"
      ]
     },
     "execution_count": 8,
     "metadata": {},
     "output_type": "execute_result"
    }
   ],
   "source": [
    "df"
   ]
  },
  {
   "cell_type": "code",
   "execution_count": 9,
   "metadata": {},
   "outputs": [
    {
     "data": {
      "text/html": [
       "<div>\n",
       "<style scoped>\n",
       "    .dataframe tbody tr th:only-of-type {\n",
       "        vertical-align: middle;\n",
       "    }\n",
       "\n",
       "    .dataframe tbody tr th {\n",
       "        vertical-align: top;\n",
       "    }\n",
       "\n",
       "    .dataframe thead th {\n",
       "        text-align: right;\n",
       "    }\n",
       "</style>\n",
       "<table border=\"1\" class=\"dataframe\">\n",
       "  <thead>\n",
       "    <tr style=\"text-align: right;\">\n",
       "      <th></th>\n",
       "      <th>반</th>\n",
       "      <th>이름</th>\n",
       "      <th>국어</th>\n",
       "      <th>영어</th>\n",
       "      <th>수학</th>\n",
       "      <th>과학</th>\n",
       "      <th>총점</th>\n",
       "      <th>평균</th>\n",
       "    </tr>\n",
       "  </thead>\n",
       "  <tbody>\n",
       "    <tr>\n",
       "      <th>9</th>\n",
       "      <td>2</td>\n",
       "      <td>일지매</td>\n",
       "      <td>99</td>\n",
       "      <td>89</td>\n",
       "      <td>87</td>\n",
       "      <td>87</td>\n",
       "      <td>362</td>\n",
       "      <td>90.50</td>\n",
       "    </tr>\n",
       "    <tr>\n",
       "      <th>3</th>\n",
       "      <td>1</td>\n",
       "      <td>방자</td>\n",
       "      <td>65</td>\n",
       "      <td>94</td>\n",
       "      <td>89</td>\n",
       "      <td>98</td>\n",
       "      <td>346</td>\n",
       "      <td>86.50</td>\n",
       "    </tr>\n",
       "    <tr>\n",
       "      <th>7</th>\n",
       "      <td>2</td>\n",
       "      <td>임꺽정</td>\n",
       "      <td>89</td>\n",
       "      <td>98</td>\n",
       "      <td>78</td>\n",
       "      <td>78</td>\n",
       "      <td>343</td>\n",
       "      <td>85.75</td>\n",
       "    </tr>\n",
       "    <tr>\n",
       "      <th>0</th>\n",
       "      <td>1</td>\n",
       "      <td>성춘향</td>\n",
       "      <td>67</td>\n",
       "      <td>87</td>\n",
       "      <td>90</td>\n",
       "      <td>98</td>\n",
       "      <td>342</td>\n",
       "      <td>85.50</td>\n",
       "    </tr>\n",
       "    <tr>\n",
       "      <th>5</th>\n",
       "      <td>1</td>\n",
       "      <td>변학도</td>\n",
       "      <td>78</td>\n",
       "      <td>76</td>\n",
       "      <td>98</td>\n",
       "      <td>89</td>\n",
       "      <td>341</td>\n",
       "      <td>85.25</td>\n",
       "    </tr>\n",
       "    <tr>\n",
       "      <th>2</th>\n",
       "      <td>1</td>\n",
       "      <td>향단이</td>\n",
       "      <td>95</td>\n",
       "      <td>59</td>\n",
       "      <td>96</td>\n",
       "      <td>88</td>\n",
       "      <td>338</td>\n",
       "      <td>84.50</td>\n",
       "    </tr>\n",
       "    <tr>\n",
       "      <th>11</th>\n",
       "      <td>2</td>\n",
       "      <td>콩쥐</td>\n",
       "      <td>65</td>\n",
       "      <td>89</td>\n",
       "      <td>87</td>\n",
       "      <td>78</td>\n",
       "      <td>319</td>\n",
       "      <td>79.75</td>\n",
       "    </tr>\n",
       "    <tr>\n",
       "      <th>8</th>\n",
       "      <td>2</td>\n",
       "      <td>전우치</td>\n",
       "      <td>100</td>\n",
       "      <td>78</td>\n",
       "      <td>56</td>\n",
       "      <td>65</td>\n",
       "      <td>299</td>\n",
       "      <td>74.75</td>\n",
       "    </tr>\n",
       "    <tr>\n",
       "      <th>4</th>\n",
       "      <td>1</td>\n",
       "      <td>월매</td>\n",
       "      <td>45</td>\n",
       "      <td>65</td>\n",
       "      <td>78</td>\n",
       "      <td>98</td>\n",
       "      <td>286</td>\n",
       "      <td>71.50</td>\n",
       "    </tr>\n",
       "    <tr>\n",
       "      <th>6</th>\n",
       "      <td>2</td>\n",
       "      <td>홍길동</td>\n",
       "      <td>87</td>\n",
       "      <td>67</td>\n",
       "      <td>65</td>\n",
       "      <td>56</td>\n",
       "      <td>275</td>\n",
       "      <td>68.75</td>\n",
       "    </tr>\n",
       "    <tr>\n",
       "      <th>10</th>\n",
       "      <td>2</td>\n",
       "      <td>심청</td>\n",
       "      <td>98</td>\n",
       "      <td>45</td>\n",
       "      <td>56</td>\n",
       "      <td>54</td>\n",
       "      <td>253</td>\n",
       "      <td>63.25</td>\n",
       "    </tr>\n",
       "    <tr>\n",
       "      <th>1</th>\n",
       "      <td>1</td>\n",
       "      <td>이몽룡</td>\n",
       "      <td>45</td>\n",
       "      <td>45</td>\n",
       "      <td>56</td>\n",
       "      <td>98</td>\n",
       "      <td>244</td>\n",
       "      <td>61.00</td>\n",
       "    </tr>\n",
       "  </tbody>\n",
       "</table>\n",
       "</div>"
      ],
      "text/plain": [
       "    반   이름   국어  영어  수학  과학   총점     평균\n",
       "9   2  일지매   99  89  87  87  362  90.50\n",
       "3   1   방자   65  94  89  98  346  86.50\n",
       "7   2  임꺽정   89  98  78  78  343  85.75\n",
       "0   1  성춘향   67  87  90  98  342  85.50\n",
       "5   1  변학도   78  76  98  89  341  85.25\n",
       "2   1  향단이   95  59  96  88  338  84.50\n",
       "11  2   콩쥐   65  89  87  78  319  79.75\n",
       "8   2  전우치  100  78  56  65  299  74.75\n",
       "4   1   월매   45  65  78  98  286  71.50\n",
       "6   2  홍길동   87  67  65  56  275  68.75\n",
       "10  2   심청   98  45  56  54  253  63.25\n",
       "1   1  이몽룡   45  45  56  98  244  61.00"
      ]
     },
     "execution_count": 9,
     "metadata": {},
     "output_type": "execute_result"
    }
   ],
   "source": [
    "sorted_df = df.sort_values(('평균'), ascending=False)\n",
    "sorted_df\n",
    "#평균을 기준으로 정렬하기"
   ]
  },
  {
   "cell_type": "code",
   "execution_count": 10,
   "metadata": {},
   "outputs": [
    {
     "data": {
      "text/html": [
       "<div>\n",
       "<style scoped>\n",
       "    .dataframe tbody tr th:only-of-type {\n",
       "        vertical-align: middle;\n",
       "    }\n",
       "\n",
       "    .dataframe tbody tr th {\n",
       "        vertical-align: top;\n",
       "    }\n",
       "\n",
       "    .dataframe thead th {\n",
       "        text-align: right;\n",
       "    }\n",
       "</style>\n",
       "<table border=\"1\" class=\"dataframe\">\n",
       "  <thead>\n",
       "    <tr style=\"text-align: right;\">\n",
       "      <th></th>\n",
       "      <th>반</th>\n",
       "      <th>이름</th>\n",
       "      <th>국어</th>\n",
       "      <th>영어</th>\n",
       "      <th>수학</th>\n",
       "      <th>과학</th>\n",
       "      <th>총점</th>\n",
       "      <th>평균</th>\n",
       "    </tr>\n",
       "    <tr>\n",
       "      <th>이름</th>\n",
       "      <th></th>\n",
       "      <th></th>\n",
       "      <th></th>\n",
       "      <th></th>\n",
       "      <th></th>\n",
       "      <th></th>\n",
       "      <th></th>\n",
       "      <th></th>\n",
       "    </tr>\n",
       "  </thead>\n",
       "  <tbody>\n",
       "    <tr>\n",
       "      <th>일지매</th>\n",
       "      <td>2</td>\n",
       "      <td>일지매</td>\n",
       "      <td>99</td>\n",
       "      <td>89</td>\n",
       "      <td>87</td>\n",
       "      <td>87</td>\n",
       "      <td>362</td>\n",
       "      <td>90.50</td>\n",
       "    </tr>\n",
       "    <tr>\n",
       "      <th>방자</th>\n",
       "      <td>1</td>\n",
       "      <td>방자</td>\n",
       "      <td>65</td>\n",
       "      <td>94</td>\n",
       "      <td>89</td>\n",
       "      <td>98</td>\n",
       "      <td>346</td>\n",
       "      <td>86.50</td>\n",
       "    </tr>\n",
       "    <tr>\n",
       "      <th>임꺽정</th>\n",
       "      <td>2</td>\n",
       "      <td>임꺽정</td>\n",
       "      <td>89</td>\n",
       "      <td>98</td>\n",
       "      <td>78</td>\n",
       "      <td>78</td>\n",
       "      <td>343</td>\n",
       "      <td>85.75</td>\n",
       "    </tr>\n",
       "    <tr>\n",
       "      <th>성춘향</th>\n",
       "      <td>1</td>\n",
       "      <td>성춘향</td>\n",
       "      <td>67</td>\n",
       "      <td>87</td>\n",
       "      <td>90</td>\n",
       "      <td>98</td>\n",
       "      <td>342</td>\n",
       "      <td>85.50</td>\n",
       "    </tr>\n",
       "    <tr>\n",
       "      <th>변학도</th>\n",
       "      <td>1</td>\n",
       "      <td>변학도</td>\n",
       "      <td>78</td>\n",
       "      <td>76</td>\n",
       "      <td>98</td>\n",
       "      <td>89</td>\n",
       "      <td>341</td>\n",
       "      <td>85.25</td>\n",
       "    </tr>\n",
       "    <tr>\n",
       "      <th>향단이</th>\n",
       "      <td>1</td>\n",
       "      <td>향단이</td>\n",
       "      <td>95</td>\n",
       "      <td>59</td>\n",
       "      <td>96</td>\n",
       "      <td>88</td>\n",
       "      <td>338</td>\n",
       "      <td>84.50</td>\n",
       "    </tr>\n",
       "    <tr>\n",
       "      <th>콩쥐</th>\n",
       "      <td>2</td>\n",
       "      <td>콩쥐</td>\n",
       "      <td>65</td>\n",
       "      <td>89</td>\n",
       "      <td>87</td>\n",
       "      <td>78</td>\n",
       "      <td>319</td>\n",
       "      <td>79.75</td>\n",
       "    </tr>\n",
       "    <tr>\n",
       "      <th>전우치</th>\n",
       "      <td>2</td>\n",
       "      <td>전우치</td>\n",
       "      <td>100</td>\n",
       "      <td>78</td>\n",
       "      <td>56</td>\n",
       "      <td>65</td>\n",
       "      <td>299</td>\n",
       "      <td>74.75</td>\n",
       "    </tr>\n",
       "    <tr>\n",
       "      <th>월매</th>\n",
       "      <td>1</td>\n",
       "      <td>월매</td>\n",
       "      <td>45</td>\n",
       "      <td>65</td>\n",
       "      <td>78</td>\n",
       "      <td>98</td>\n",
       "      <td>286</td>\n",
       "      <td>71.50</td>\n",
       "    </tr>\n",
       "    <tr>\n",
       "      <th>홍길동</th>\n",
       "      <td>2</td>\n",
       "      <td>홍길동</td>\n",
       "      <td>87</td>\n",
       "      <td>67</td>\n",
       "      <td>65</td>\n",
       "      <td>56</td>\n",
       "      <td>275</td>\n",
       "      <td>68.75</td>\n",
       "    </tr>\n",
       "    <tr>\n",
       "      <th>심청</th>\n",
       "      <td>2</td>\n",
       "      <td>심청</td>\n",
       "      <td>98</td>\n",
       "      <td>45</td>\n",
       "      <td>56</td>\n",
       "      <td>54</td>\n",
       "      <td>253</td>\n",
       "      <td>63.25</td>\n",
       "    </tr>\n",
       "    <tr>\n",
       "      <th>이몽룡</th>\n",
       "      <td>1</td>\n",
       "      <td>이몽룡</td>\n",
       "      <td>45</td>\n",
       "      <td>45</td>\n",
       "      <td>56</td>\n",
       "      <td>98</td>\n",
       "      <td>244</td>\n",
       "      <td>61.00</td>\n",
       "    </tr>\n",
       "  </tbody>\n",
       "</table>\n",
       "</div>"
      ],
      "text/plain": [
       "     반   이름   국어  영어  수학  과학   총점     평균\n",
       "이름                                      \n",
       "일지매  2  일지매   99  89  87  87  362  90.50\n",
       "방자   1   방자   65  94  89  98  346  86.50\n",
       "임꺽정  2  임꺽정   89  98  78  78  343  85.75\n",
       "성춘향  1  성춘향   67  87  90  98  342  85.50\n",
       "변학도  1  변학도   78  76  98  89  341  85.25\n",
       "향단이  1  향단이   95  59  96  88  338  84.50\n",
       "콩쥐   2   콩쥐   65  89  87  78  319  79.75\n",
       "전우치  2  전우치  100  78  56  65  299  74.75\n",
       "월매   1   월매   45  65  78  98  286  71.50\n",
       "홍길동  2  홍길동   87  67  65  56  275  68.75\n",
       "심청   2   심청   98  45  56  54  253  63.25\n",
       "이몽룡  1  이몽룡   45  45  56  98  244  61.00"
      ]
     },
     "execution_count": 10,
     "metadata": {},
     "output_type": "execute_result"
    }
   ],
   "source": [
    "sorted_df.index = sorted_df['이름']\n",
    "sorted_df"
   ]
  },
  {
   "cell_type": "code",
   "execution_count": 11,
   "metadata": {},
   "outputs": [
    {
     "data": {
      "text/plain": [
       "<matplotlib.axes._subplots.AxesSubplot at 0x296d9881668>"
      ]
     },
     "execution_count": 11,
     "metadata": {},
     "output_type": "execute_result"
    },
    {
     "data": {
      "image/png": "[encoded data removed]",
      "text/plain": [
       "<matplotlib.figure.Figure at 0x296d9867c88>"
      ]
     },
     "metadata": {
      "needs_background": "light"
     },
     "output_type": "display_data"
    }
   ],
   "source": [
    "sorted_df['평균'].plot(kind='bar')"
   ]
  },
  {
   "cell_type": "code",
   "execution_count": 12,
   "metadata": {},
   "outputs": [],
   "source": [
    "#한글깨지는문제해결\n",
    "%matplotlib inline\n",
    "import matplotlib\n",
    "import matplotlib.pyplot as plt\n",
    "from matplotlib import font_manager, rc\n",
    "import platform\n",
    "\n",
    "if platform.system() == 'Windows':\n",
    "    font_name = font_manager.FontProperties(fname='C:/Windows/Fonts/malgun.ttf').get_name()\n",
    "    rc('font', family=font_name)\n",
    "else:\n",
    "    rc('font', family='AppleGothic')\n",
    "\n",
    "matplotlib.rcParams['axes.unicode_minus']=False"
   ]
  },
  {
   "cell_type": "code",
   "execution_count": 13,
   "metadata": {},
   "outputs": [
    {
     "data": {
      "text/plain": [
       "<matplotlib.axes._subplots.AxesSubplot at 0x296d0304978>"
      ]
     },
     "execution_count": 13,
     "metadata": {},
     "output_type": "execute_result"
    },
    {
     "data": {
      "image/png": "[encoded data removed]",
      "text/plain": [
       "<matplotlib.figure.Figure at 0x296d99a4c50>"
      ]
     },
     "metadata": {
      "needs_background": "light"
     },
     "output_type": "display_data"
    }
   ],
   "source": [
    "sorted_df['평균'].plot(kind='bar', figsize=(8, 4))"
   ]
  },
  {
   "cell_type": "code",
   "execution_count": 14,
   "metadata": {},
   "outputs": [
    {
     "data": {
      "text/plain": [
       "0      True\n",
       "1      True\n",
       "2      True\n",
       "3      True\n",
       "4      True\n",
       "5      True\n",
       "6     False\n",
       "7     False\n",
       "8     False\n",
       "9     False\n",
       "10    False\n",
       "11    False\n",
       "Name: 반, dtype: bool"
      ]
     },
     "execution_count": 14,
     "metadata": {},
     "output_type": "execute_result"
    }
   ],
   "source": [
    "df['반'] == 1"
   ]
  },
  {
   "cell_type": "code",
   "execution_count": 15,
   "metadata": {},
   "outputs": [
    {
     "data": {
      "text/plain": [
       "0     False\n",
       "1     False\n",
       "2     False\n",
       "3     False\n",
       "4     False\n",
       "5     False\n",
       "6      True\n",
       "7      True\n",
       "8      True\n",
       "9      True\n",
       "10     True\n",
       "11     True\n",
       "Name: 반, dtype: bool"
      ]
     },
     "execution_count": 15,
     "metadata": {},
     "output_type": "execute_result"
    }
   ],
   "source": [
    "df['반'] == 2"
   ]
  },
  {
   "cell_type": "code",
   "execution_count": 16,
   "metadata": {},
   "outputs": [
    {
     "data": {
      "text/html": [
       "<div>\n",
       "<style scoped>\n",
       "    .dataframe tbody tr th:only-of-type {\n",
       "        vertical-align: middle;\n",
       "    }\n",
       "\n",
       "    .dataframe tbody tr th {\n",
       "        vertical-align: top;\n",
       "    }\n",
       "\n",
       "    .dataframe thead th {\n",
       "        text-align: right;\n",
       "    }\n",
       "</style>\n",
       "<table border=\"1\" class=\"dataframe\">\n",
       "  <thead>\n",
       "    <tr style=\"text-align: right;\">\n",
       "      <th></th>\n",
       "      <th>반</th>\n",
       "      <th>이름</th>\n",
       "      <th>국어</th>\n",
       "      <th>영어</th>\n",
       "      <th>수학</th>\n",
       "      <th>과학</th>\n",
       "      <th>총점</th>\n",
       "      <th>평균</th>\n",
       "    </tr>\n",
       "  </thead>\n",
       "  <tbody>\n",
       "    <tr>\n",
       "      <th>0</th>\n",
       "      <td>1</td>\n",
       "      <td>성춘향</td>\n",
       "      <td>67</td>\n",
       "      <td>87</td>\n",
       "      <td>90</td>\n",
       "      <td>98</td>\n",
       "      <td>342</td>\n",
       "      <td>85.50</td>\n",
       "    </tr>\n",
       "    <tr>\n",
       "      <th>1</th>\n",
       "      <td>1</td>\n",
       "      <td>이몽룡</td>\n",
       "      <td>45</td>\n",
       "      <td>45</td>\n",
       "      <td>56</td>\n",
       "      <td>98</td>\n",
       "      <td>244</td>\n",
       "      <td>61.00</td>\n",
       "    </tr>\n",
       "    <tr>\n",
       "      <th>2</th>\n",
       "      <td>1</td>\n",
       "      <td>향단이</td>\n",
       "      <td>95</td>\n",
       "      <td>59</td>\n",
       "      <td>96</td>\n",
       "      <td>88</td>\n",
       "      <td>338</td>\n",
       "      <td>84.50</td>\n",
       "    </tr>\n",
       "    <tr>\n",
       "      <th>3</th>\n",
       "      <td>1</td>\n",
       "      <td>방자</td>\n",
       "      <td>65</td>\n",
       "      <td>94</td>\n",
       "      <td>89</td>\n",
       "      <td>98</td>\n",
       "      <td>346</td>\n",
       "      <td>86.50</td>\n",
       "    </tr>\n",
       "    <tr>\n",
       "      <th>4</th>\n",
       "      <td>1</td>\n",
       "      <td>월매</td>\n",
       "      <td>45</td>\n",
       "      <td>65</td>\n",
       "      <td>78</td>\n",
       "      <td>98</td>\n",
       "      <td>286</td>\n",
       "      <td>71.50</td>\n",
       "    </tr>\n",
       "    <tr>\n",
       "      <th>5</th>\n",
       "      <td>1</td>\n",
       "      <td>변학도</td>\n",
       "      <td>78</td>\n",
       "      <td>76</td>\n",
       "      <td>98</td>\n",
       "      <td>89</td>\n",
       "      <td>341</td>\n",
       "      <td>85.25</td>\n",
       "    </tr>\n",
       "  </tbody>\n",
       "</table>\n",
       "</div>"
      ],
      "text/plain": [
       "   반   이름  국어  영어  수학  과학   총점     평균\n",
       "0  1  성춘향  67  87  90  98  342  85.50\n",
       "1  1  이몽룡  45  45  56  98  244  61.00\n",
       "2  1  향단이  95  59  96  88  338  84.50\n",
       "3  1   방자  65  94  89  98  346  86.50\n",
       "4  1   월매  45  65  78  98  286  71.50\n",
       "5  1  변학도  78  76  98  89  341  85.25"
      ]
     },
     "execution_count": 16,
     "metadata": {},
     "output_type": "execute_result"
    }
   ],
   "source": [
    "일반 = df[ df['반'] == 1 ]\n",
    "일반"
   ]
  },
  {
   "cell_type": "code",
   "execution_count": 17,
   "metadata": {},
   "outputs": [
    {
     "data": {
      "text/html": [
       "<div>\n",
       "<style scoped>\n",
       "    .dataframe tbody tr th:only-of-type {\n",
       "        vertical-align: middle;\n",
       "    }\n",
       "\n",
       "    .dataframe tbody tr th {\n",
       "        vertical-align: top;\n",
       "    }\n",
       "\n",
       "    .dataframe thead th {\n",
       "        text-align: right;\n",
       "    }\n",
       "</style>\n",
       "<table border=\"1\" class=\"dataframe\">\n",
       "  <thead>\n",
       "    <tr style=\"text-align: right;\">\n",
       "      <th></th>\n",
       "      <th>반</th>\n",
       "      <th>이름</th>\n",
       "      <th>국어</th>\n",
       "      <th>영어</th>\n",
       "      <th>수학</th>\n",
       "      <th>과학</th>\n",
       "      <th>총점</th>\n",
       "      <th>평균</th>\n",
       "    </tr>\n",
       "  </thead>\n",
       "  <tbody>\n",
       "    <tr>\n",
       "      <th>6</th>\n",
       "      <td>2</td>\n",
       "      <td>홍길동</td>\n",
       "      <td>87</td>\n",
       "      <td>67</td>\n",
       "      <td>65</td>\n",
       "      <td>56</td>\n",
       "      <td>275</td>\n",
       "      <td>68.75</td>\n",
       "    </tr>\n",
       "    <tr>\n",
       "      <th>7</th>\n",
       "      <td>2</td>\n",
       "      <td>임꺽정</td>\n",
       "      <td>89</td>\n",
       "      <td>98</td>\n",
       "      <td>78</td>\n",
       "      <td>78</td>\n",
       "      <td>343</td>\n",
       "      <td>85.75</td>\n",
       "    </tr>\n",
       "    <tr>\n",
       "      <th>8</th>\n",
       "      <td>2</td>\n",
       "      <td>전우치</td>\n",
       "      <td>100</td>\n",
       "      <td>78</td>\n",
       "      <td>56</td>\n",
       "      <td>65</td>\n",
       "      <td>299</td>\n",
       "      <td>74.75</td>\n",
       "    </tr>\n",
       "    <tr>\n",
       "      <th>9</th>\n",
       "      <td>2</td>\n",
       "      <td>일지매</td>\n",
       "      <td>99</td>\n",
       "      <td>89</td>\n",
       "      <td>87</td>\n",
       "      <td>87</td>\n",
       "      <td>362</td>\n",
       "      <td>90.50</td>\n",
       "    </tr>\n",
       "    <tr>\n",
       "      <th>10</th>\n",
       "      <td>2</td>\n",
       "      <td>심청</td>\n",
       "      <td>98</td>\n",
       "      <td>45</td>\n",
       "      <td>56</td>\n",
       "      <td>54</td>\n",
       "      <td>253</td>\n",
       "      <td>63.25</td>\n",
       "    </tr>\n",
       "    <tr>\n",
       "      <th>11</th>\n",
       "      <td>2</td>\n",
       "      <td>콩쥐</td>\n",
       "      <td>65</td>\n",
       "      <td>89</td>\n",
       "      <td>87</td>\n",
       "      <td>78</td>\n",
       "      <td>319</td>\n",
       "      <td>79.75</td>\n",
       "    </tr>\n",
       "  </tbody>\n",
       "</table>\n",
       "</div>"
      ],
      "text/plain": [
       "    반   이름   국어  영어  수학  과학   총점     평균\n",
       "6   2  홍길동   87  67  65  56  275  68.75\n",
       "7   2  임꺽정   89  98  78  78  343  85.75\n",
       "8   2  전우치  100  78  56  65  299  74.75\n",
       "9   2  일지매   99  89  87  87  362  90.50\n",
       "10  2   심청   98  45  56  54  253  63.25\n",
       "11  2   콩쥐   65  89  87  78  319  79.75"
      ]
     },
     "execution_count": 17,
     "metadata": {},
     "output_type": "execute_result"
    }
   ],
   "source": [
    "이반 = df[ df['반'] == 2]\n",
    "이반"
   ]
  },
  {
   "cell_type": "code",
   "execution_count": 18,
   "metadata": {},
   "outputs": [
    {
     "data": {
      "text/plain": [
       "79.04166666666667"
      ]
     },
     "execution_count": 18,
     "metadata": {},
     "output_type": "execute_result"
    }
   ],
   "source": [
    "일반평균 = 일반['총점'].sum() /(6*4)\n",
    "일반평균"
   ]
  },
  {
   "cell_type": "code",
   "execution_count": 19,
   "metadata": {},
   "outputs": [
    {
     "data": {
      "text/plain": [
       "77.125"
      ]
     },
     "execution_count": 19,
     "metadata": {},
     "output_type": "execute_result"
    }
   ],
   "source": [
    "이반평균 = 이반['총점'].sum()/(6*4)\n",
    "이반평균"
   ]
  },
  {
   "cell_type": "code",
   "execution_count": 20,
   "metadata": {},
   "outputs": [
    {
     "data": {
      "text/plain": [
       "(79.04166666666667, 77.125)"
      ]
     },
     "execution_count": 20,
     "metadata": {},
     "output_type": "execute_result"
    }
   ],
   "source": [
    "(일반평균,이반평균)"
   ]
  },
  {
   "cell_type": "code",
   "execution_count": 21,
   "metadata": {},
   "outputs": [
    {
     "data": {
      "text/plain": [
       "Ttest_indResult(statistic=0.319960228209846, pvalue=0.755583336185639)"
      ]
     },
     "execution_count": 21,
     "metadata": {},
     "output_type": "execute_result"
    }
   ],
   "source": [
    "stats.ttest_ind(일반['평균'],이반['평균']) \n",
    "#값들의 차이가 얼마나 되는지 pvalues 살펴보기\n",
    "#p-value >0.005 보다 크므로 차이가 없다는 영가설 채택"
   ]
  },
  {
   "cell_type": "code",
   "execution_count": 22,
   "metadata": {},
   "outputs": [
    {
     "data": {
      "text/plain": [
       "0    85.50\n",
       "1    61.00\n",
       "2    84.50\n",
       "3    86.50\n",
       "4    71.50\n",
       "5    85.25\n",
       "Name: 평균, dtype: float64"
      ]
     },
     "execution_count": 22,
     "metadata": {},
     "output_type": "execute_result"
    }
   ],
   "source": [
    "일반['평균']"
   ]
  },
  {
   "cell_type": "code",
   "execution_count": 23,
   "metadata": {},
   "outputs": [
    {
     "data": {
      "text/plain": [
       "6     68.75\n",
       "7     85.75\n",
       "8     74.75\n",
       "9     90.50\n",
       "10    63.25\n",
       "11    79.75\n",
       "Name: 평균, dtype: float64"
      ]
     },
     "execution_count": 23,
     "metadata": {},
     "output_type": "execute_result"
    }
   ],
   "source": [
    "이반['평균']"
   ]
  },
  {
   "cell_type": "code",
   "execution_count": 24,
   "metadata": {
    "scrolled": true
   },
   "outputs": [
    {
     "name": "stdout",
     "output_type": "stream",
     "text": [
      "국어 Ttest_indResult(statistic=-2.490140665442242, pvalue=0.031982494983816424)\n",
      "영어 Ttest_indResult(statistic=-0.6156907152631581, pvalue=0.5518533781528807)\n",
      "수학 Ttest_indResult(statistic=1.4961318778859336, pvalue=0.1654958420079056)\n",
      "과학 Ttest_indResult(statistic=4.328442555331755, pvalue=0.0014931977711732465)\n"
     ]
    }
   ],
   "source": [
    "for subject in subjects:\n",
    "    print(subject, stats.ttest_ind(일반[subject], 이반[subject]))\n",
    "    \n",
    "#과학점수는 유의미하게 차이가 있다. (pvalue=0.0014931977711732465)"
   ]
  },
  {
   "cell_type": "code",
   "execution_count": 25,
   "metadata": {},
   "outputs": [
    {
     "data": {
      "text/plain": [
       "(94.83333333333333, 69.66666666666667)"
      ]
     },
     "execution_count": 25,
     "metadata": {},
     "output_type": "execute_result"
    }
   ],
   "source": [
    "일반['과학'].sum()/6 , 이반['과학'].sum()/6"
   ]
  },
  {
   "cell_type": "code",
   "execution_count": 26,
   "metadata": {
    "scrolled": true
   },
   "outputs": [
    {
     "data": {
      "text/plain": [
       "<matplotlib.axes._subplots.AxesSubplot at 0x296dba17208>"
      ]
     },
     "execution_count": 26,
     "metadata": {},
     "output_type": "execute_result"
    },
    {
     "data": {
      "image/png": "[encoded data removed]",
      "text/plain": [
       "<matplotlib.figure.Figure at 0x296db9c7b70>"
      ]
     },
     "metadata": {
      "needs_background": "light"
     },
     "output_type": "display_data"
    }
   ],
   "source": [
    "sorted_df[subjects].plot(kind='bar', figsize=(10,6))\n",
    "#과목별로 그려보고싶을 때"
   ]
  },
  {
   "cell_type": "code",
   "execution_count": 27,
   "metadata": {},
   "outputs": [
    {
     "data": {
      "text/plain": [
       "<matplotlib.axes._subplots.AxesSubplot at 0x296dba86dd8>"
      ]
     },
     "execution_count": 27,
     "metadata": {},
     "output_type": "execute_result"
    },
    {
     "data": {
      "image/png": "[encoded data removed]",
      "text/plain": [
       "<matplotlib.figure.Figure at 0x296dba48630>"
      ]
     },
     "metadata": {
      "needs_background": "light"
     },
     "output_type": "display_data"
    }
   ],
   "source": [
    "df[subjects].boxplot(return_type='axes')\n",
    "#x축 과목, y축 점수\n",
    "#형태가 어떤지 궁금할때 박스플롯으로 그려보기\n",
    "#초록색선은 중앙값(전체데이터의 가운데에 있는 값, 평균이랑 다름)\n",
    "#평균은 이상치의 영향을 받음 중앙값은 이상치의 영향을 크게 받지 않음"
   ]
  },
  {
   "cell_type": "code",
   "execution_count": 28,
   "metadata": {},
   "outputs": [
    {
     "name": "stdout",
     "output_type": "stream",
     "text": [
      "<class 'pandas.core.frame.DataFrame'>\n",
      "RangeIndex: 12 entries, 0 to 11\n",
      "Data columns (total 4 columns):\n",
      "국어    12 non-null int64\n",
      "영어    12 non-null int64\n",
      "수학    12 non-null int64\n",
      "과학    12 non-null int64\n",
      "dtypes: int64(4)\n",
      "memory usage: 464.0 bytes\n"
     ]
    }
   ],
   "source": [
    "df[subjects].info()"
   ]
  },
  {
   "cell_type": "code",
   "execution_count": 29,
   "metadata": {},
   "outputs": [
    {
     "data": {
      "text/html": [
       "<div>\n",
       "<style scoped>\n",
       "    .dataframe tbody tr th:only-of-type {\n",
       "        vertical-align: middle;\n",
       "    }\n",
       "\n",
       "    .dataframe tbody tr th {\n",
       "        vertical-align: top;\n",
       "    }\n",
       "\n",
       "    .dataframe thead th {\n",
       "        text-align: right;\n",
       "    }\n",
       "</style>\n",
       "<table border=\"1\" class=\"dataframe\">\n",
       "  <thead>\n",
       "    <tr style=\"text-align: right;\">\n",
       "      <th></th>\n",
       "      <th>국어</th>\n",
       "      <th>영어</th>\n",
       "      <th>수학</th>\n",
       "      <th>과학</th>\n",
       "    </tr>\n",
       "  </thead>\n",
       "  <tbody>\n",
       "    <tr>\n",
       "      <th>count</th>\n",
       "      <td>12.0000</td>\n",
       "      <td>12.000000</td>\n",
       "      <td>12.000000</td>\n",
       "      <td>12.000000</td>\n",
       "    </tr>\n",
       "    <tr>\n",
       "      <th>mean</th>\n",
       "      <td>77.7500</td>\n",
       "      <td>74.333333</td>\n",
       "      <td>78.000000</td>\n",
       "      <td>82.250000</td>\n",
       "    </tr>\n",
       "    <tr>\n",
       "      <th>std</th>\n",
       "      <td>20.1184</td>\n",
       "      <td>18.217541</td>\n",
       "      <td>15.874508</td>\n",
       "      <td>16.276726</td>\n",
       "    </tr>\n",
       "    <tr>\n",
       "      <th>min</th>\n",
       "      <td>45.0000</td>\n",
       "      <td>45.000000</td>\n",
       "      <td>56.000000</td>\n",
       "      <td>54.000000</td>\n",
       "    </tr>\n",
       "    <tr>\n",
       "      <th>25%</th>\n",
       "      <td>65.0000</td>\n",
       "      <td>63.500000</td>\n",
       "      <td>62.750000</td>\n",
       "      <td>74.750000</td>\n",
       "    </tr>\n",
       "    <tr>\n",
       "      <th>50%</th>\n",
       "      <td>82.5000</td>\n",
       "      <td>77.000000</td>\n",
       "      <td>82.500000</td>\n",
       "      <td>87.500000</td>\n",
       "    </tr>\n",
       "    <tr>\n",
       "      <th>75%</th>\n",
       "      <td>95.7500</td>\n",
       "      <td>89.000000</td>\n",
       "      <td>89.250000</td>\n",
       "      <td>98.000000</td>\n",
       "    </tr>\n",
       "    <tr>\n",
       "      <th>max</th>\n",
       "      <td>100.0000</td>\n",
       "      <td>98.000000</td>\n",
       "      <td>98.000000</td>\n",
       "      <td>98.000000</td>\n",
       "    </tr>\n",
       "  </tbody>\n",
       "</table>\n",
       "</div>"
      ],
      "text/plain": [
       "             국어         영어         수학         과학\n",
       "count   12.0000  12.000000  12.000000  12.000000\n",
       "mean    77.7500  74.333333  78.000000  82.250000\n",
       "std     20.1184  18.217541  15.874508  16.276726\n",
       "min     45.0000  45.000000  56.000000  54.000000\n",
       "25%     65.0000  63.500000  62.750000  74.750000\n",
       "50%     82.5000  77.000000  82.500000  87.500000\n",
       "75%     95.7500  89.000000  89.250000  98.000000\n",
       "max    100.0000  98.000000  98.000000  98.000000"
      ]
     },
     "execution_count": 29,
     "metadata": {},
     "output_type": "execute_result"
    }
   ],
   "source": [
    "df[subjects].describe()\n",
    "#이 데이터에 대해서 살펴보기\n",
    "#boxplot와 비슷\n",
    "#count로 결측치가 있는지 없는지 판단하기"
   ]
  },
  {
   "cell_type": "code",
   "execution_count": 30,
   "metadata": {},
   "outputs": [
    {
     "data": {
      "text/plain": [
       "<matplotlib.axes._subplots.AxesSubplot at 0x296dbb99b70>"
      ]
     },
     "execution_count": 30,
     "metadata": {},
     "output_type": "execute_result"
    },
    {
     "data": {
      "image/png": "[encoded data removed]",
      "text/plain": [
       "<matplotlib.figure.Figure at 0x296dbc74128>"
      ]
     },
     "metadata": {
      "needs_background": "light"
     },
     "output_type": "display_data"
    }
   ],
   "source": [
    "일반[subjects].boxplot()\n",
    "#수학에 있는 작은 동그라미는 이상치값"
   ]
  },
  {
   "cell_type": "code",
   "execution_count": 31,
   "metadata": {},
   "outputs": [
    {
     "data": {
      "text/plain": [
       "<matplotlib.axes._subplots.AxesSubplot at 0x296dbafda20>"
      ]
     },
     "execution_count": 31,
     "metadata": {},
     "output_type": "execute_result"
    },
    {
     "data": {
      "image/png": "[encoded data removed]",
      "text/plain": [
       "<matplotlib.figure.Figure at 0x296dbbb34e0>"
      ]
     },
     "metadata": {
      "needs_background": "light"
     },
     "output_type": "display_data"
    }
   ],
   "source": [
    "이반[subjects].boxplot()"
   ]
  },
  {
   "cell_type": "code",
   "execution_count": 32,
   "metadata": {},
   "outputs": [
    {
     "data": {
      "text/plain": [
       "<matplotlib.axes._subplots.AxesSubplot at 0x296dbb6d710>"
      ]
     },
     "execution_count": 32,
     "metadata": {},
     "output_type": "execute_result"
    },
    {
     "data": {
      "image/png": "[encoded data removed]",
      "text/plain": [
       "<matplotlib.figure.Figure at 0x296dbcecef0>"
      ]
     },
     "metadata": {
      "needs_background": "light"
     },
     "output_type": "display_data"
    }
   ],
   "source": [
    "df.plot(kind='scatter', x='수학', y='과학')\n",
    "#수학과 과학 점수의 상관관계보기\n",
    "#관계가 어느정도 있어보이지만 지금 데이터가 너무 작아서 결과분석에 의미가 약함"
   ]
  },
  {
   "cell_type": "code",
   "execution_count": 33,
   "metadata": {},
   "outputs": [
    {
     "data": {
      "text/plain": [
       "(0.5632890597067751, 0.05650580486155532)"
      ]
     },
     "execution_count": 33,
     "metadata": {},
     "output_type": "execute_result"
    }
   ],
   "source": [
    "stats.pearsonr(df['수학'], df['과학'])\n",
    "#피어슨상관계수 0.5를 기준으로 크면 상관관계가 있다. 작으면 없다.\n",
    "#본 결과는 0.5보다 크긴하지만 명확한 상관관계는 아님\n",
    "#(상관계수, p-value)"
   ]
  },
  {
   "cell_type": "code",
   "execution_count": 34,
   "metadata": {},
   "outputs": [
    {
     "data": {
      "text/plain": [
       "<matplotlib.axes._subplots.AxesSubplot at 0x296dbbbb630>"
      ]
     },
     "execution_count": 34,
     "metadata": {},
     "output_type": "execute_result"
    },
    {
     "data": {
      "image/png": "[encoded data removed]",
      "text/plain": [
       "<matplotlib.figure.Figure at 0x296dbd0cac8>"
      ]
     },
     "metadata": {
      "needs_background": "light"
     },
     "output_type": "display_data"
    }
   ],
   "source": [
    "df.plot(kind='scatter', x='국어', y='영어')"
   ]
  },
  {
   "cell_type": "code",
   "execution_count": 35,
   "metadata": {},
   "outputs": [
    {
     "data": {
      "text/plain": [
       "(0.10566562777973997, 0.7437959551857836)"
      ]
     },
     "execution_count": 35,
     "metadata": {},
     "output_type": "execute_result"
    }
   ],
   "source": [
    "stats.pearsonr(df['국어'], df['영어'])\n",
    "#피어슨계수상으로 상관관계 없음. "
   ]
  },
  {
   "cell_type": "code",
   "execution_count": 36,
   "metadata": {},
   "outputs": [
    {
     "data": {
      "text/html": [
       "<div>\n",
       "<style scoped>\n",
       "    .dataframe tbody tr th:only-of-type {\n",
       "        vertical-align: middle;\n",
       "    }\n",
       "\n",
       "    .dataframe tbody tr th {\n",
       "        vertical-align: top;\n",
       "    }\n",
       "\n",
       "    .dataframe thead th {\n",
       "        text-align: right;\n",
       "    }\n",
       "</style>\n",
       "<table border=\"1\" class=\"dataframe\">\n",
       "  <thead>\n",
       "    <tr style=\"text-align: right;\">\n",
       "      <th></th>\n",
       "      <th>국어</th>\n",
       "      <th>영어</th>\n",
       "      <th>수학</th>\n",
       "      <th>과학</th>\n",
       "    </tr>\n",
       "  </thead>\n",
       "  <tbody>\n",
       "    <tr>\n",
       "      <th>0</th>\n",
       "      <td>67</td>\n",
       "      <td>87</td>\n",
       "      <td>90</td>\n",
       "      <td>98</td>\n",
       "    </tr>\n",
       "    <tr>\n",
       "      <th>1</th>\n",
       "      <td>45</td>\n",
       "      <td>45</td>\n",
       "      <td>56</td>\n",
       "      <td>98</td>\n",
       "    </tr>\n",
       "    <tr>\n",
       "      <th>2</th>\n",
       "      <td>95</td>\n",
       "      <td>59</td>\n",
       "      <td>96</td>\n",
       "      <td>88</td>\n",
       "    </tr>\n",
       "    <tr>\n",
       "      <th>3</th>\n",
       "      <td>65</td>\n",
       "      <td>94</td>\n",
       "      <td>89</td>\n",
       "      <td>98</td>\n",
       "    </tr>\n",
       "    <tr>\n",
       "      <th>4</th>\n",
       "      <td>45</td>\n",
       "      <td>65</td>\n",
       "      <td>78</td>\n",
       "      <td>98</td>\n",
       "    </tr>\n",
       "    <tr>\n",
       "      <th>5</th>\n",
       "      <td>78</td>\n",
       "      <td>76</td>\n",
       "      <td>98</td>\n",
       "      <td>89</td>\n",
       "    </tr>\n",
       "    <tr>\n",
       "      <th>6</th>\n",
       "      <td>87</td>\n",
       "      <td>67</td>\n",
       "      <td>65</td>\n",
       "      <td>56</td>\n",
       "    </tr>\n",
       "    <tr>\n",
       "      <th>7</th>\n",
       "      <td>89</td>\n",
       "      <td>98</td>\n",
       "      <td>78</td>\n",
       "      <td>78</td>\n",
       "    </tr>\n",
       "    <tr>\n",
       "      <th>8</th>\n",
       "      <td>100</td>\n",
       "      <td>78</td>\n",
       "      <td>56</td>\n",
       "      <td>65</td>\n",
       "    </tr>\n",
       "    <tr>\n",
       "      <th>9</th>\n",
       "      <td>99</td>\n",
       "      <td>89</td>\n",
       "      <td>87</td>\n",
       "      <td>87</td>\n",
       "    </tr>\n",
       "    <tr>\n",
       "      <th>10</th>\n",
       "      <td>98</td>\n",
       "      <td>45</td>\n",
       "      <td>56</td>\n",
       "      <td>54</td>\n",
       "    </tr>\n",
       "    <tr>\n",
       "      <th>11</th>\n",
       "      <td>65</td>\n",
       "      <td>89</td>\n",
       "      <td>87</td>\n",
       "      <td>78</td>\n",
       "    </tr>\n",
       "  </tbody>\n",
       "</table>\n",
       "</div>"
      ],
      "text/plain": [
       "     국어  영어  수학  과학\n",
       "0    67  87  90  98\n",
       "1    45  45  56  98\n",
       "2    95  59  96  88\n",
       "3    65  94  89  98\n",
       "4    45  65  78  98\n",
       "5    78  76  98  89\n",
       "6    87  67  65  56\n",
       "7    89  98  78  78\n",
       "8   100  78  56  65\n",
       "9    99  89  87  87\n",
       "10   98  45  56  54\n",
       "11   65  89  87  78"
      ]
     },
     "execution_count": 36,
     "metadata": {},
     "output_type": "execute_result"
    }
   ],
   "source": [
    "#주성분 분석\n",
    "df[subjects]"
   ]
  },
  {
   "cell_type": "code",
   "execution_count": 37,
   "metadata": {},
   "outputs": [],
   "source": [
    "from sklearn.preprocessing import StandardScaler"
   ]
  },
  {
   "cell_type": "code",
   "execution_count": 38,
   "metadata": {},
   "outputs": [
    {
     "name": "stderr",
     "output_type": "stream",
     "text": [
      "C:\\ProgramData\\Anaconda3\\lib\\site-packages\\sklearn\\preprocessing\\data.py:625: DataConversionWarning: Data with input dtype int64 were all converted to float64 by StandardScaler.\n",
      "  return self.partial_fit(X, y)\n",
      "C:\\ProgramData\\Anaconda3\\lib\\site-packages\\sklearn\\base.py:462: DataConversionWarning: Data with input dtype int64 were all converted to float64 by StandardScaler.\n",
      "  return self.fit(X, **fit_params).transform(X)\n"
     ]
    }
   ],
   "source": [
    "X_std = StandardScaler().fit_transform(df[subjects])"
   ]
  },
  {
   "cell_type": "code",
   "execution_count": 39,
   "metadata": {},
   "outputs": [
    {
     "data": {
      "text/plain": [
       "array([[-0.55809652,  0.72621778,  0.78954203,  1.01066629],\n",
       "       [-1.70024754, -1.68176748, -1.44749373,  1.01066629],\n",
       "       [ 0.89555023, -0.87910573,  1.18431305,  0.36897341],\n",
       "       [-0.66192843,  1.12754865,  0.72374686,  1.01066629],\n",
       "       [-1.70024754, -0.53510783,  0.        ,  1.01066629],\n",
       "       [ 0.01297899,  0.09555497,  1.31590339,  0.43314269],\n",
       "       [ 0.48022259, -0.42044187, -0.8553372 , -1.68444381],\n",
       "       [ 0.5840545 ,  1.35688058,  0.        , -0.27271947],\n",
       "       [ 1.15513001,  0.21022093, -1.44749373, -1.10692022],\n",
       "       [ 1.10321405,  0.84088374,  0.59215653,  0.30480412],\n",
       "       [ 1.0512981 , -1.68176748, -1.44749373, -1.81278239],\n",
       "       [-0.66192843,  0.84088374,  0.59215653, -0.27271947]])"
      ]
     },
     "execution_count": 39,
     "metadata": {},
     "output_type": "execute_result"
    }
   ],
   "source": [
    "X_std\n",
    "#데이터들의 범위를 줄이는 과정, 0을 기준으로 +,-값으로 줄이는 과정\n",
    "#정규화"
   ]
  },
  {
   "cell_type": "code",
   "execution_count": 40,
   "metadata": {},
   "outputs": [],
   "source": [
    "from sklearn.decomposition import PCA\n",
    "#주성분 분석 ->차원 축소의 개념"
   ]
  },
  {
   "cell_type": "code",
   "execution_count": 41,
   "metadata": {},
   "outputs": [],
   "source": [
    "pca = PCA(n_components=2)\n",
    "#주성분을 두개로 줄이겠다.(지금은 4개, 국,영,수,과)"
   ]
  },
  {
   "cell_type": "code",
   "execution_count": 42,
   "metadata": {},
   "outputs": [],
   "source": [
    "Y=pca.fit_transform(X_std)\n",
    "#Y 는 예측값을 의미"
   ]
  },
  {
   "cell_type": "code",
   "execution_count": 43,
   "metadata": {},
   "outputs": [
    {
     "data": {
      "text/plain": [
       "array([[-1.56591653, -0.09168753],\n",
       "       [ 0.11774518,  2.93515218],\n",
       "       [-0.20727166, -0.38845514],\n",
       "       [-1.71984653, -0.24234692],\n",
       "       [-1.11185524,  1.70512415],\n",
       "       [-1.03327136, -0.43547978],\n",
       "       [ 1.88205338, -0.20323602],\n",
       "       [-0.10118555, -1.27408337],\n",
       "       [ 1.88020684, -0.64411706],\n",
       "       [-0.39554448, -1.36047251],\n",
       "       [ 2.98704605,  0.37256038],\n",
       "       [-0.7321601 , -0.37295837]])"
      ]
     },
     "execution_count": 43,
     "metadata": {},
     "output_type": "execute_result"
    }
   ],
   "source": [
    "Y"
   ]
  },
  {
   "cell_type": "code",
   "execution_count": 44,
   "metadata": {},
   "outputs": [
    {
     "data": {
      "text/html": [
       "<div>\n",
       "<style scoped>\n",
       "    .dataframe tbody tr th:only-of-type {\n",
       "        vertical-align: middle;\n",
       "    }\n",
       "\n",
       "    .dataframe tbody tr th {\n",
       "        vertical-align: top;\n",
       "    }\n",
       "\n",
       "    .dataframe thead th {\n",
       "        text-align: right;\n",
       "    }\n",
       "</style>\n",
       "<table border=\"1\" class=\"dataframe\">\n",
       "  <thead>\n",
       "    <tr style=\"text-align: right;\">\n",
       "      <th></th>\n",
       "      <th>반</th>\n",
       "      <th>이름</th>\n",
       "      <th>국어</th>\n",
       "      <th>영어</th>\n",
       "      <th>수학</th>\n",
       "      <th>과학</th>\n",
       "      <th>총점</th>\n",
       "      <th>평균</th>\n",
       "      <th>PC1</th>\n",
       "      <th>PC2</th>\n",
       "    </tr>\n",
       "  </thead>\n",
       "  <tbody>\n",
       "    <tr>\n",
       "      <th>0</th>\n",
       "      <td>1</td>\n",
       "      <td>성춘향</td>\n",
       "      <td>67</td>\n",
       "      <td>87</td>\n",
       "      <td>90</td>\n",
       "      <td>98</td>\n",
       "      <td>342</td>\n",
       "      <td>85.50</td>\n",
       "      <td>-1.565917</td>\n",
       "      <td>-0.091688</td>\n",
       "    </tr>\n",
       "    <tr>\n",
       "      <th>1</th>\n",
       "      <td>1</td>\n",
       "      <td>이몽룡</td>\n",
       "      <td>45</td>\n",
       "      <td>45</td>\n",
       "      <td>56</td>\n",
       "      <td>98</td>\n",
       "      <td>244</td>\n",
       "      <td>61.00</td>\n",
       "      <td>0.117745</td>\n",
       "      <td>2.935152</td>\n",
       "    </tr>\n",
       "    <tr>\n",
       "      <th>2</th>\n",
       "      <td>1</td>\n",
       "      <td>향단이</td>\n",
       "      <td>95</td>\n",
       "      <td>59</td>\n",
       "      <td>96</td>\n",
       "      <td>88</td>\n",
       "      <td>338</td>\n",
       "      <td>84.50</td>\n",
       "      <td>-0.207272</td>\n",
       "      <td>-0.388455</td>\n",
       "    </tr>\n",
       "    <tr>\n",
       "      <th>3</th>\n",
       "      <td>1</td>\n",
       "      <td>방자</td>\n",
       "      <td>65</td>\n",
       "      <td>94</td>\n",
       "      <td>89</td>\n",
       "      <td>98</td>\n",
       "      <td>346</td>\n",
       "      <td>86.50</td>\n",
       "      <td>-1.719847</td>\n",
       "      <td>-0.242347</td>\n",
       "    </tr>\n",
       "    <tr>\n",
       "      <th>4</th>\n",
       "      <td>1</td>\n",
       "      <td>월매</td>\n",
       "      <td>45</td>\n",
       "      <td>65</td>\n",
       "      <td>78</td>\n",
       "      <td>98</td>\n",
       "      <td>286</td>\n",
       "      <td>71.50</td>\n",
       "      <td>-1.111855</td>\n",
       "      <td>1.705124</td>\n",
       "    </tr>\n",
       "    <tr>\n",
       "      <th>5</th>\n",
       "      <td>1</td>\n",
       "      <td>변학도</td>\n",
       "      <td>78</td>\n",
       "      <td>76</td>\n",
       "      <td>98</td>\n",
       "      <td>89</td>\n",
       "      <td>341</td>\n",
       "      <td>85.25</td>\n",
       "      <td>-1.033271</td>\n",
       "      <td>-0.435480</td>\n",
       "    </tr>\n",
       "    <tr>\n",
       "      <th>6</th>\n",
       "      <td>2</td>\n",
       "      <td>홍길동</td>\n",
       "      <td>87</td>\n",
       "      <td>67</td>\n",
       "      <td>65</td>\n",
       "      <td>56</td>\n",
       "      <td>275</td>\n",
       "      <td>68.75</td>\n",
       "      <td>1.882053</td>\n",
       "      <td>-0.203236</td>\n",
       "    </tr>\n",
       "    <tr>\n",
       "      <th>7</th>\n",
       "      <td>2</td>\n",
       "      <td>임꺽정</td>\n",
       "      <td>89</td>\n",
       "      <td>98</td>\n",
       "      <td>78</td>\n",
       "      <td>78</td>\n",
       "      <td>343</td>\n",
       "      <td>85.75</td>\n",
       "      <td>-0.101186</td>\n",
       "      <td>-1.274083</td>\n",
       "    </tr>\n",
       "    <tr>\n",
       "      <th>8</th>\n",
       "      <td>2</td>\n",
       "      <td>전우치</td>\n",
       "      <td>100</td>\n",
       "      <td>78</td>\n",
       "      <td>56</td>\n",
       "      <td>65</td>\n",
       "      <td>299</td>\n",
       "      <td>74.75</td>\n",
       "      <td>1.880207</td>\n",
       "      <td>-0.644117</td>\n",
       "    </tr>\n",
       "    <tr>\n",
       "      <th>9</th>\n",
       "      <td>2</td>\n",
       "      <td>일지매</td>\n",
       "      <td>99</td>\n",
       "      <td>89</td>\n",
       "      <td>87</td>\n",
       "      <td>87</td>\n",
       "      <td>362</td>\n",
       "      <td>90.50</td>\n",
       "      <td>-0.395544</td>\n",
       "      <td>-1.360473</td>\n",
       "    </tr>\n",
       "    <tr>\n",
       "      <th>10</th>\n",
       "      <td>2</td>\n",
       "      <td>심청</td>\n",
       "      <td>98</td>\n",
       "      <td>45</td>\n",
       "      <td>56</td>\n",
       "      <td>54</td>\n",
       "      <td>253</td>\n",
       "      <td>63.25</td>\n",
       "      <td>2.987046</td>\n",
       "      <td>0.372560</td>\n",
       "    </tr>\n",
       "    <tr>\n",
       "      <th>11</th>\n",
       "      <td>2</td>\n",
       "      <td>콩쥐</td>\n",
       "      <td>65</td>\n",
       "      <td>89</td>\n",
       "      <td>87</td>\n",
       "      <td>78</td>\n",
       "      <td>319</td>\n",
       "      <td>79.75</td>\n",
       "      <td>-0.732160</td>\n",
       "      <td>-0.372958</td>\n",
       "    </tr>\n",
       "  </tbody>\n",
       "</table>\n",
       "</div>"
      ],
      "text/plain": [
       "    반   이름   국어  영어  수학  과학   총점     평균       PC1       PC2\n",
       "0   1  성춘향   67  87  90  98  342  85.50 -1.565917 -0.091688\n",
       "1   1  이몽룡   45  45  56  98  244  61.00  0.117745  2.935152\n",
       "2   1  향단이   95  59  96  88  338  84.50 -0.207272 -0.388455\n",
       "3   1   방자   65  94  89  98  346  86.50 -1.719847 -0.242347\n",
       "4   1   월매   45  65  78  98  286  71.50 -1.111855  1.705124\n",
       "5   1  변학도   78  76  98  89  341  85.25 -1.033271 -0.435480\n",
       "6   2  홍길동   87  67  65  56  275  68.75  1.882053 -0.203236\n",
       "7   2  임꺽정   89  98  78  78  343  85.75 -0.101186 -1.274083\n",
       "8   2  전우치  100  78  56  65  299  74.75  1.880207 -0.644117\n",
       "9   2  일지매   99  89  87  87  362  90.50 -0.395544 -1.360473\n",
       "10  2   심청   98  45  56  54  253  63.25  2.987046  0.372560\n",
       "11  2   콩쥐   65  89  87  78  319  79.75 -0.732160 -0.372958"
      ]
     },
     "execution_count": 44,
     "metadata": {},
     "output_type": "execute_result"
    }
   ],
   "source": [
    "pca_df = pd.DataFrame(Y)\n",
    "pca_df.index = df.index\n",
    "pca_df.columns = ['PC1', 'PC2']\n",
    "df2 = pd.concat([df, pca_df], axis=1)\n",
    "#concat 합치기 기능, axis=1열방향으로 옆에 붙이기\n",
    "df2"
   ]
  },
  {
   "cell_type": "code",
   "execution_count": 45,
   "metadata": {},
   "outputs": [],
   "source": [
    "def draw_groups(groups, loc):\n",
    "    fig, ax = plt.subplots()\n",
    "    ax.margins(0.1)\n",
    "    for name, group in groups:\n",
    "        ax.plot(group['PC1'], group['PC2'], marker = 'o', linestyle='', ms=8, label=name)\n",
    "    ax.legend(numpoints=1, loc=loc)"
   ]
  },
  {
   "cell_type": "code",
   "execution_count": 46,
   "metadata": {},
   "outputs": [
    {
     "data": {
      "image/png": "[encoded data removed]",
      "text/plain": [
       "<matplotlib.figure.Figure at 0x296dc5fdd30>"
      ]
     },
     "metadata": {
      "needs_background": "light"
     },
     "output_type": "display_data"
    }
   ],
   "source": [
    "draw_groups(df2.groupby('반'), loc='upper left')"
   ]
  },
  {
   "cell_type": "code",
   "execution_count": null,
   "metadata": {},
   "outputs": [],
   "source": [
    "####end"
   ]
  }
 ],
 "metadata": {
  "kernelspec": {
   "display_name": "Python 3",
   "language": "python",
   "name": "python3"
  },
  "language_info": {
   "codemirror_mode": {
    "name": "ipython",
    "version": 3
   },
   "file_extension": ".py",
   "mimetype": "text/x-python",
   "name": "python",
   "nbconvert_exporter": "python",
   "pygments_lexer": "ipython3",
   "version": "3.6.4"
  }
 },
 "nbformat": 4,
 "nbformat_minor": 2
}
